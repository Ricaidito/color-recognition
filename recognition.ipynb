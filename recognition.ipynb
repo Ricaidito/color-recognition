{
 "cells": [
  {
   "attachments": {},
   "cell_type": "markdown",
   "metadata": {},
   "source": [
    "# Color recognition"
   ]
  },
  {
   "attachments": {},
   "cell_type": "markdown",
   "metadata": {},
   "source": [
    "Desc"
   ]
  },
  {
   "attachments": {},
   "cell_type": "markdown",
   "metadata": {},
   "source": [
    "Add the necesary imports"
   ]
  },
  {
   "cell_type": "code",
   "execution_count": null,
   "metadata": {},
   "outputs": [],
   "source": [
    "import csv\n",
    "import numpy as np\n",
    "from PIL import Image\n",
    "from collections import defaultdict\n",
    "import pickle\n",
    "import torch\n",
    "import torch.nn as nn\n",
    "import matplotlib.pyplot as plt"
   ]
  },
  {
   "attachments": {},
   "cell_type": "markdown",
   "metadata": {},
   "source": [
    "Metadata"
   ]
  },
  {
   "cell_type": "code",
   "execution_count": null,
   "metadata": {},
   "outputs": [],
   "source": [
    "model_path = \"color_classifier.pth\"\n",
    "label_encoder_path = \"label_encoder.pkl\"\n",
    "image_path = \"image.jpg\"\n",
    "csv_file = \"colors.csv\""
   ]
  },
  {
   "attachments": {},
   "cell_type": "markdown",
   "metadata": {},
   "source": [
    "Create the class interface to instantiate the classifier"
   ]
  },
  {
   "cell_type": "code",
   "execution_count": null,
   "metadata": {},
   "outputs": [],
   "source": [
    "class ColorClassifier(nn.Module):\n",
    "    def __init__(self, input_dim, num_classes):\n",
    "        super(ColorClassifier, self).__init__()\n",
    "        self.fc1 = nn.Linear(input_dim, 64)\n",
    "        self.fc2 = nn.Linear(64, 32)\n",
    "        self.fc3 = nn.Linear(32, num_classes)\n",
    "\n",
    "    def forward(self, x):\n",
    "        x = torch.relu(self.fc1(x))\n",
    "        x = torch.relu(self.fc2(x))\n",
    "        x = self.fc3(x)\n",
    "        return x"
   ]
  },
  {
   "attachments": {},
   "cell_type": "markdown",
   "metadata": {},
   "source": [
    "Helper function to get the colors from the image"
   ]
  },
  {
   "cell_type": "code",
   "execution_count": null,
   "metadata": {},
   "outputs": [],
   "source": [
    "def get_image_colors(image_path, model, label_encoder):\n",
    "    image = Image.open(image_path)\n",
    "    pixels = np.array(image.getdata()) / 255.0\n",
    "    pixels = torch.tensor(pixels, dtype=torch.float32)\n",
    "\n",
    "    with torch.no_grad():\n",
    "        model.eval()\n",
    "        outputs = model(pixels)\n",
    "        _, predicted_indices = torch.max(outputs, 1)\n",
    "        color_names = label_encoder.inverse_transform(predicted_indices.numpy())\n",
    "\n",
    "    color_counter = defaultdict(int)\n",
    "    for color_name in color_names:\n",
    "        color_counter[color_name] += 1\n",
    "\n",
    "    return color_counter"
   ]
  },
  {
   "attachments": {},
   "cell_type": "markdown",
   "metadata": {},
   "source": [
    "Helper function to get the RGB values from the dataset"
   ]
  },
  {
   "cell_type": "code",
   "execution_count": null,
   "metadata": {},
   "outputs": [],
   "source": [
    "def get_rgb_from_csv(colors_list, csv_file_path):\n",
    "    with open(csv_file_path, newline='') as csvfile:\n",
    "        reader = csv.DictReader(csvfile)\n",
    "        colors_dict = {row[\"Name\"].lower(): (int(row[\"Red (8 bit)\"]), int(row[\"Green (8 bit)\"]), int(row[\"Blue (8 bit)\"])) for row in reader}\n",
    "    result = []\n",
    "    for color_name in colors_list:\n",
    "        if color_name.lower() in colors_dict:\n",
    "            rgb = colors_dict[color_name.lower()]\n",
    "            result.append((color_name, rgb))\n",
    "        else:\n",
    "            result.append((color_name, None))\n",
    "    return result"
   ]
  },
  {
   "attachments": {},
   "cell_type": "markdown",
   "metadata": {},
   "source": [
    "Helper function to convert hex color values to RGB format"
   ]
  },
  {
   "cell_type": "code",
   "execution_count": null,
   "metadata": {},
   "outputs": [],
   "source": [
    "def rgb_to_hex(rgb):\n",
    "    r, g, b = rgb\n",
    "    return f\"#{r:02x}{g:02x}{b:02x}\""
   ]
  },
  {
   "attachments": {},
   "cell_type": "markdown",
   "metadata": {},
   "source": [
    "Helper function to show the results"
   ]
  },
  {
   "cell_type": "code",
   "execution_count": null,
   "metadata": {},
   "outputs": [],
   "source": [
    "def print_results(color_pixels, color_codes):\n",
    "    print(f\"\\n{len(color_pixels)} COLOR RESULTS:\\n\")\n",
    "    for (color_name, rgb_val), (_, pixels) in zip(color_codes, color_pixels):\n",
    "        print(f\"{color_name}, {rgb_val}, {pixels} pixels\")"
   ]
  },
  {
   "attachments": {},
   "cell_type": "markdown",
   "metadata": {},
   "source": [
    "Helper function to show the pie graph of color distribution"
   ]
  },
  {
   "cell_type": "code",
   "execution_count": null,
   "metadata": {},
   "outputs": [],
   "source": [
    "def show_graph(color_pixels, color_codes):\n",
    "    color_graph_data = []\n",
    "    for (color_name, rgb_val), (_, pixels) in zip(color_codes, color_pixels):\n",
    "        color_graph_data.append((color_name, rgb_to_hex(rgb_val), pixels))\n",
    "\n",
    "    pie_labels = [f\"{i[0]}, {i[1]}\" for i in color_codes]\n",
    "    colors = [i[1] for i in color_graph_data]\n",
    "    pixels = [i[2] for i in color_graph_data]\n",
    "\n",
    "    plt.rcParams[\"figure.figsize\"] = [12.8, 7.2]\n",
    "    plt.pie(pixels, labels=pie_labels, colors=colors)\n",
    "    plt.title(\"Color distribution\", fontdict={\"fontsize\": 14, \"fontweight\": \"bold\"})\n",
    "    plt.show()"
   ]
  },
  {
   "attachments": {},
   "cell_type": "markdown",
   "metadata": {},
   "source": [
    "Consume the model and show the results"
   ]
  },
  {
   "cell_type": "code",
   "execution_count": null,
   "metadata": {},
   "outputs": [],
   "source": [
    "num_classes = 0\n",
    "with open(label_encoder_path, \"rb\") as f:\n",
    "    label_encoder = pickle.load(f)\n",
    "    num_classes = len(label_encoder.classes_)\n",
    "\n",
    "model = ColorClassifier(3, num_classes)\n",
    "model.load_state_dict(torch.load(model_path))\n",
    "\n",
    "image_colors = get_image_colors(image_path, model, label_encoder)\n",
    "\n",
    "color_pixels = sorted(image_colors.items(), key=lambda x: x[1], reverse=True)\n",
    "\n",
    "color_codes = get_rgb_from_csv([color[0] for color in color_pixels], csv_file)\n",
    "\n",
    "print_results(color_pixels, color_codes)\n",
    "show_graph(color_pixels, color_codes)"
   ]
  }
 ],
 "metadata": {
  "kernelspec": {
   "display_name": "venv",
   "language": "python",
   "name": "python3"
  },
  "language_info": {
   "codemirror_mode": {
    "name": "ipython",
    "version": 3
   },
   "file_extension": ".py",
   "mimetype": "text/x-python",
   "name": "python",
   "nbconvert_exporter": "python",
   "pygments_lexer": "ipython3",
   "version": "3.11.0"
  },
  "orig_nbformat": 4
 },
 "nbformat": 4,
 "nbformat_minor": 2
}
